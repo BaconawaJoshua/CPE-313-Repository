{
  "nbformat": 4,
  "nbformat_minor": 0,
  "metadata": {
    "colab": {
      "provenance": []
    },
    "kernelspec": {
      "name": "python3",
      "display_name": "Python 3"
    },
    "language_info": {
      "name": "python"
    }
  },
  "cells": [
    {
      "cell_type": "code",
      "execution_count": 1,
      "metadata": {
        "id": "A_fJfDmdIh4T"
      },
      "outputs": [],
      "source": [
        "import numpy as np\n",
        "import pandas as pd\n",
        "import matplotlib.pyplot as plt\n",
        "\n",
        "from sklearn.model_selection import train_test_split\n",
        "from sklearn.preprocessing import StandardScaler\n",
        "from sklearn.ensemble import RandomForestClassifier\n",
        "\n",
        "import seaborn as sns\n",
        "\n",
        "%matplotlib inline"
      ]
    },
    {
      "cell_type": "markdown",
      "source": [
        "#N1"
      ],
      "metadata": {
        "id": "_h1VJKisHva1"
      }
    },
    {
      "cell_type": "code",
      "source": [
        "class neuron:\n",
        "  def __init__(N, weight1, weight2, weight3, input1, input2, input3):\n",
        "    N.weight1 = weight1\n",
        "    N.weight2 = weight2\n",
        "    N.weight3 = weight3\n",
        "\n",
        "    N.input1 = input1\n",
        "    N.input2 = input2\n",
        "    N.input3 = input3\n",
        "\n",
        "    N.run = N.adder(weight1, weight2, weight3, input1, input2, input3)\n",
        "\n",
        "  def adder(N, weight1, weight2, weight3, input1, input2, input3):\n",
        "    output = (input1*weight1) + (input2*weight2) + (input3*weight3)\n",
        "    print(output)\n",
        "    return output\n",
        "\n",
        "  def relu(N):\n",
        "    return N.run*(N.run>0)"
      ],
      "metadata": {
        "id": "wN6rSkSZIxGK"
      },
      "execution_count": 2,
      "outputs": []
    },
    {
      "cell_type": "code",
      "source": [
        "add_unit = neuron(1,3,5,5,6,7)"
      ],
      "metadata": {
        "colab": {
          "base_uri": "https://localhost:8080/"
        },
        "id": "kGdExoR-jm5Y",
        "outputId": "f9d90345-7c49-459e-87c7-77bfe0d86913"
      },
      "execution_count": 3,
      "outputs": [
        {
          "output_type": "stream",
          "name": "stdout",
          "text": [
            "58\n"
          ]
        }
      ]
    },
    {
      "cell_type": "code",
      "source": [
        "# Activation Function\n",
        "add_unit.relu()"
      ],
      "metadata": {
        "colab": {
          "base_uri": "https://localhost:8080/"
        },
        "id": "gZqmJX6bjy0F",
        "outputId": "31684a05-4076-4f0d-b8c7-2151ded9dd52"
      },
      "execution_count": 4,
      "outputs": [
        {
          "output_type": "execute_result",
          "data": {
            "text/plain": [
              "58"
            ]
          },
          "metadata": {},
          "execution_count": 4
        }
      ]
    },
    {
      "cell_type": "markdown",
      "source": [
        "#N2"
      ],
      "metadata": {
        "id": "z8WSz6LyHult"
      }
    },
    {
      "cell_type": "code",
      "source": [
        "class neuron2:\n",
        "  def __init__(N2, weight1, weight2, weight3, input1, input2, input3):\n",
        "    N2.weight1 = weight1\n",
        "    N2.weight2 = weight2\n",
        "    N2.weight3 = weight3\n",
        "\n",
        "    N2.input1 = input1\n",
        "    N2.input2 = input2\n",
        "    N2.input3 = input3\n",
        "\n",
        "    N2.run = N2.adder(weight1, weight2, weight3, input1, input2, input3)\n",
        "\n",
        "  def adder(N2, weight1, weight2, weight3, input1, input2, input3):\n",
        "    output = (input1*weight1) + (input2*weight2) + (input3*weight3)\n",
        "    print(output)\n",
        "    return output\n",
        "\n",
        "  def relu(N2):\n",
        "    return N2.run*(N2.run>0)"
      ],
      "metadata": {
        "id": "M20velzAF34N"
      },
      "execution_count": 5,
      "outputs": []
    },
    {
      "cell_type": "code",
      "source": [
        "add_unit2 = neuron2(1,3,5,5,6,7)"
      ],
      "metadata": {
        "colab": {
          "base_uri": "https://localhost:8080/"
        },
        "id": "dIwkO8sGHnDF",
        "outputId": "1fd968b2-2aab-4c41-a809-e625398bd32b"
      },
      "execution_count": 6,
      "outputs": [
        {
          "output_type": "stream",
          "name": "stdout",
          "text": [
            "58\n"
          ]
        }
      ]
    },
    {
      "cell_type": "code",
      "source": [
        "# Activation Function\n",
        "add_unit2.relu()"
      ],
      "metadata": {
        "colab": {
          "base_uri": "https://localhost:8080/"
        },
        "id": "yAKTrg2GHnQP",
        "outputId": "befb668a-62e8-4a0d-8c5a-784d9f435194"
      },
      "execution_count": 7,
      "outputs": [
        {
          "output_type": "execute_result",
          "data": {
            "text/plain": [
              "58"
            ]
          },
          "metadata": {},
          "execution_count": 7
        }
      ]
    },
    {
      "cell_type": "markdown",
      "source": [
        "#N3"
      ],
      "metadata": {
        "id": "dIGaEtEnIa_k"
      }
    },
    {
      "cell_type": "code",
      "source": [
        "class neuron3:\n",
        "  def __init__(N3, weight1, weight2, weight3, input1, input2, input3):\n",
        "    N3.weight1 = weight1\n",
        "    N3.weight2 = weight2\n",
        "    N3.weight3 = weight3\n",
        "\n",
        "    N3.input1 = input1\n",
        "    N3.input2 = input2\n",
        "    N3.input3 = input3\n",
        "\n",
        "    N3.run = N3.adder(weight1, weight2, weight3, input1, input2, input3)\n",
        "\n",
        "  def adder(N3, weight1, weight2, weight3, input1, input2, input3):\n",
        "    output = (input1*weight1) + (input2*weight2) + (input3*weight3)\n",
        "    print(output)\n",
        "    return output\n",
        "\n",
        "  def relu(N3):\n",
        "    return N3.run*(N3.run>0)"
      ],
      "metadata": {
        "id": "Hs1aDAZbGKJW"
      },
      "execution_count": 8,
      "outputs": []
    },
    {
      "cell_type": "code",
      "source": [
        "add_unit3 = neuron3(1,3,5,5,6,7)"
      ],
      "metadata": {
        "colab": {
          "base_uri": "https://localhost:8080/"
        },
        "id": "kW7KxleVHoDF",
        "outputId": "7ea0f2a9-ba20-4377-d5c8-4d043372a04a"
      },
      "execution_count": 9,
      "outputs": [
        {
          "output_type": "stream",
          "name": "stdout",
          "text": [
            "58\n"
          ]
        }
      ]
    },
    {
      "cell_type": "code",
      "source": [
        "# Activation Function\n",
        "add_unit3.relu()"
      ],
      "metadata": {
        "colab": {
          "base_uri": "https://localhost:8080/"
        },
        "id": "VLnxmOlcHo6V",
        "outputId": "bd6bda82-32a7-4091-8037-cc0c0eb287d3"
      },
      "execution_count": 10,
      "outputs": [
        {
          "output_type": "execute_result",
          "data": {
            "text/plain": [
              "58"
            ]
          },
          "metadata": {},
          "execution_count": 10
        }
      ]
    },
    {
      "cell_type": "markdown",
      "source": [
        "#S"
      ],
      "metadata": {
        "id": "7ET9Rht8JYHs"
      }
    },
    {
      "cell_type": "code",
      "source": [
        "class forward_neuron:\n",
        "  def __init__(S, add_unit, add_unit2, add_unit3, act_func, act_func2, act_func3):\n",
        "\n",
        "    S.add_unit = add_unit\n",
        "    S.add_unit2 = add_unit2\n",
        "    S.add_unit3 = add_unit3\n",
        "\n",
        "    S.act_func = act_func\n",
        "    S.act_func2 = act_func2\n",
        "    S.act_func3 = act_func3\n",
        "\n",
        "    S.run = S.adder(add_unit, add_unit2, add_unit3, act_func, act_func2, act_func3)\n",
        "\n",
        "  def adder(S, add_unit, add_unit2, add_unit3, act_func, act_func2, act_func3):\n",
        "    result = (act_func*add_unit) + (act_func2*add_unit2) + (act_func3*add_unit3)\n",
        "    print(result)\n",
        "    return result"
      ],
      "metadata": {
        "id": "a9pClrDMHpKV"
      },
      "execution_count": 15,
      "outputs": []
    },
    {
      "cell_type": "code",
      "source": [
        "add_unit_S = forward_neuron(58,58,58,58,58,58)"
      ],
      "metadata": {
        "colab": {
          "base_uri": "https://localhost:8080/"
        },
        "id": "9VCFbBYwLHZE",
        "outputId": "0fd57619-336b-40a3-f70e-ef48167c011f"
      },
      "execution_count": 16,
      "outputs": [
        {
          "output_type": "stream",
          "name": "stdout",
          "text": [
            "10092\n"
          ]
        }
      ]
    },
    {
      "cell_type": "code",
      "source": [
        "# Sigmoid Activation Function from Keras:\n",
        "# sigmoid(x) = 1 / (1 + exp(-x))"
      ],
      "metadata": {
        "id": "s6WylwmJTNXh"
      },
      "execution_count": 17,
      "outputs": []
    },
    {
      "cell_type": "code",
      "source": [
        "#  def sigmoid(S):\n",
        "#    return S.run/(S.run + (0))"
      ],
      "metadata": {
        "id": "PD15TFZgVKKo"
      },
      "execution_count": null,
      "outputs": []
    },
    {
      "cell_type": "markdown",
      "source": [
        "# more nodes(but less input)"
      ],
      "metadata": {
        "id": "CFAcE3ekU5r5"
      }
    },
    {
      "cell_type": "markdown",
      "source": [
        "##N4"
      ],
      "metadata": {
        "id": "FjNSraOJbd7V"
      }
    },
    {
      "cell_type": "code",
      "source": [
        "class neuron4:\n",
        "  def __init__(N4, weight1, weight2, input1, input2):\n",
        "    N4.weight1 = weight1\n",
        "    N4.weight2 = weight2\n",
        "\n",
        "    N4.input1 = input1\n",
        "    N4.input2 = input2\n",
        "\n",
        "    N4.run = N4.adder(weight1, weight2, input1, input2)\n",
        "\n",
        "  def adder(N4, weight1, weight2, input1, input2):\n",
        "    output = (input1*weight1) + (input2*weight2)\n",
        "    print(output)\n",
        "    return output\n",
        "\n",
        "  def relu(N4):\n",
        "    return N4.run*(N4.run>0)"
      ],
      "metadata": {
        "id": "ybyBel_JU5g4"
      },
      "execution_count": 22,
      "outputs": []
    },
    {
      "cell_type": "code",
      "source": [
        "add_unit4 = neuron4(1,3,5,6)"
      ],
      "metadata": {
        "colab": {
          "base_uri": "https://localhost:8080/"
        },
        "id": "EWI6JuClWZwQ",
        "outputId": "ddec4f0e-a0ef-45c0-80ae-1fd934b87473"
      },
      "execution_count": 23,
      "outputs": [
        {
          "output_type": "stream",
          "name": "stdout",
          "text": [
            "23\n"
          ]
        }
      ]
    },
    {
      "cell_type": "code",
      "source": [
        "# Activation Function\n",
        "add_unit4.relu()"
      ],
      "metadata": {
        "colab": {
          "base_uri": "https://localhost:8080/"
        },
        "id": "yjOU-8cFW9Jv",
        "outputId": "c714d13a-3509-4ae1-bac5-b975295d52b9"
      },
      "execution_count": 24,
      "outputs": [
        {
          "output_type": "execute_result",
          "data": {
            "text/plain": [
              "23"
            ]
          },
          "metadata": {},
          "execution_count": 24
        }
      ]
    },
    {
      "cell_type": "markdown",
      "source": [
        "##N5"
      ],
      "metadata": {
        "id": "r8btOXhibid1"
      }
    },
    {
      "cell_type": "code",
      "source": [
        "class neuron5:\n",
        "  def __init__(N5, weight1, weight2, input1, input2):\n",
        "    N5.weight1 = weight1\n",
        "    N5.weight2 = weight2\n",
        "\n",
        "    N5.input1 = input1\n",
        "    N5.input2 = input2\n",
        "\n",
        "    N5.run = N5.adder(weight1, weight2, input1, input2)\n",
        "\n",
        "  def adder(N5, weight1, weight2, input1, input2):\n",
        "    output = (input1*weight1) + (input2*weight2)\n",
        "    print(output)\n",
        "    return output\n",
        "\n",
        "  def relu(N5):\n",
        "    return N5.run*(N5.run>0)"
      ],
      "metadata": {
        "id": "GvRiHqg-W-xQ"
      },
      "execution_count": 25,
      "outputs": []
    },
    {
      "cell_type": "code",
      "source": [
        "add_unit5 = neuron5(1,3,5,6)"
      ],
      "metadata": {
        "colab": {
          "base_uri": "https://localhost:8080/"
        },
        "id": "YahWpmIJXJGP",
        "outputId": "83131e42-821c-483d-a478-dda0c007014d"
      },
      "execution_count": 26,
      "outputs": [
        {
          "output_type": "stream",
          "name": "stdout",
          "text": [
            "23\n"
          ]
        }
      ]
    },
    {
      "cell_type": "code",
      "source": [
        "# Activation Function\n",
        "add_unit5.relu()"
      ],
      "metadata": {
        "colab": {
          "base_uri": "https://localhost:8080/"
        },
        "id": "P6pVlHeBXKKf",
        "outputId": "5ce022c2-40b2-4c74-8cd2-5627ce8b791f"
      },
      "execution_count": 27,
      "outputs": [
        {
          "output_type": "execute_result",
          "data": {
            "text/plain": [
              "23"
            ]
          },
          "metadata": {},
          "execution_count": 27
        }
      ]
    },
    {
      "cell_type": "markdown",
      "source": [
        "## S2"
      ],
      "metadata": {
        "id": "N09_Vc7SXaDv"
      }
    },
    {
      "cell_type": "code",
      "source": [
        "class forward_neuron2:\n",
        "  def __init__(S2, add_unit, add_unit2, add_unit3, add_unit4, add_unit5,\n",
        "               act_func, act_func2, act_func3, act_func4, act_func5):\n",
        "\n",
        "    S2.add_unit = add_unit\n",
        "    S2.add_unit2 = add_unit2\n",
        "    S2.add_unit3 = add_unit3\n",
        "    S2.add_unit4 = add_unit4\n",
        "    S2.add_unit5 = add_unit5\n",
        "\n",
        "    S2.act_func = act_func\n",
        "    S2.act_func2 = act_func2\n",
        "    S2.act_func3 = act_func3\n",
        "    S2.act_func4 = act_func4\n",
        "    S2.act_func5 = act_func5\n",
        "\n",
        "    S2.run = S2.adder(add_unit, add_unit2, add_unit3, add_unit4, add_unit5,\n",
        "               act_func, act_func2, act_func3, act_func4, act_func5)\n",
        "\n",
        "  def adder(S2, add_unit, add_unit2, add_unit3, add_unit4, add_unit5,\n",
        "               act_func, act_func2, act_func3, act_func4, act_func5):\n",
        "    result = (act_func*add_unit)+(act_func2*add_unit2)+(act_func3*add_unit3)+(act_func4*add_unit4)+(act_func5*add_unit5)\n",
        "    print(result)\n",
        "    return result"
      ],
      "metadata": {
        "id": "SgBr_zFzXLyg"
      },
      "execution_count": 28,
      "outputs": []
    },
    {
      "cell_type": "code",
      "source": [
        "add_unit_S2 = forward_neuron2(23,23,23,23,23,23,23,23,23,23)"
      ],
      "metadata": {
        "colab": {
          "base_uri": "https://localhost:8080/"
        },
        "id": "b1s6tT1TY83m",
        "outputId": "38513303-17ba-4180-9427-d603e5e3a165"
      },
      "execution_count": 30,
      "outputs": [
        {
          "output_type": "stream",
          "name": "stdout",
          "text": [
            "2645\n"
          ]
        }
      ]
    },
    {
      "cell_type": "code",
      "source": [
        "# Sigmoid Activation Function from Keras:\n",
        "# sigmoid(x) = 1 / (1 + exp(-x))"
      ],
      "metadata": {
        "id": "gJgJOkRFZLDP"
      },
      "execution_count": 31,
      "outputs": []
    },
    {
      "cell_type": "code",
      "source": [
        "#  def sigmoid(S2):\n",
        "#    return S2.run/(S2.run + (0))"
      ],
      "metadata": {
        "id": "_sKWCVSGZgx_"
      },
      "execution_count": null,
      "outputs": []
    }
  ]
}