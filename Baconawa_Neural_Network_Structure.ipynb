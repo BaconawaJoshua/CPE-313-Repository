{
  "nbformat": 4,
  "nbformat_minor": 0,
  "metadata": {
    "colab": {
      "provenance": []
    },
    "kernelspec": {
      "name": "python3",
      "display_name": "Python 3"
    },
    "language_info": {
      "name": "python"
    }
  },
  "cells": [
    {
      "cell_type": "code",
      "execution_count": 1,
      "metadata": {
        "id": "A_fJfDmdIh4T"
      },
      "outputs": [],
      "source": [
        "import numpy as np\n",
        "import pandas as pd\n",
        "import matplotlib.pyplot as plt\n",
        "\n",
        "from sklearn.model_selection import train_test_split\n",
        "from sklearn.preprocessing import StandardScaler\n",
        "from sklearn.metrics import confusion_matrix, precision_recall_curve, roc_auc_score, roc_curve, accuracy_score\n",
        "from sklearn.ensemble import RandomForestClassifier\n",
        "\n",
        "import seaborn as sns\n",
        "\n",
        "%matplotlib inline"
      ]
    },
    {
      "cell_type": "code",
      "source": [
        "class neuron:\n",
        "  def __init__(self, weight1, weight2, input1, input2, link, adder, act_fn):\n",
        "    self.weight1 = weight1\n",
        "    self.weight2 = weight2\n",
        "\n",
        "    self.input1 = input1\n",
        "    self.input2 = input2\n",
        "\n",
        "\n",
        "def sigmoid(z):\n",
        "  return 1/(1 + np.exp(-z))\n",
        "\n",
        "\n",
        "\n",
        "  def relu(x):\n",
        "    return max(0,x)"
      ],
      "metadata": {
        "id": "wN6rSkSZIxGK"
      },
      "execution_count": 11,
      "outputs": []
    },
    {
      "cell_type": "code",
      "source": [
        "def parameterss(x, h, y):\n",
        "  W1 = np.random.randn(h, x)\n",
        "  b1 = np.zeros((h, 1))\n",
        "  W2 = np.random.randn(y, h)\n",
        "  b2 = np.zeros((y, 1))\n",
        "\n",
        "################################\n",
        "\n",
        "  params = {\n",
        "    \"W1\": W1,\n",
        "    \"b1\" : b1,\n",
        "    \"W2\": W2,\n",
        "    \"b2\" : b2\n",
        "  }\n",
        "  return params"
      ],
      "metadata": {
        "id": "o9cMBSoWWvGl"
      },
      "execution_count": 18,
      "outputs": []
    },
    {
      "cell_type": "code",
      "source": [
        "def forward(n, params):\n",
        "  W1 = params[\"W1\"]\n",
        "  b1 = params[\"b1\"]\n",
        "  W2 = params[\"W2\"]\n",
        "  b2 = params[\"b2\"]\n",
        "\n",
        "  Z1 = np.dot(W1, n) + b1\n",
        "  A1 = np.tanh(Z1)\n",
        "  Z2 = np.dot(W2, A1) + b2\n",
        "  A2 = sigmoid(Z2)\n",
        "\n",
        "  cache = {\n",
        "    \"A1\": A1,\n",
        "    \"A2\": A2\n",
        "  }\n",
        "  return A2, cache"
      ],
      "metadata": {
        "id": "J1mjGaegUEEV"
      },
      "execution_count": 19,
      "outputs": []
    }
  ]
}